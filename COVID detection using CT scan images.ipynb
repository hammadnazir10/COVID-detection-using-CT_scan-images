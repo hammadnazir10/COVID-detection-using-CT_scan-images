{
 "cells": [
  {
   "cell_type": "code",
   "execution_count": 1,
   "id": "269487d5",
   "metadata": {},
   "outputs": [],
   "source": [
    "# Importing Libraries\n",
    "import os\n",
    "import numpy as np\n",
    "import matplotlib.pyplot as plt\n",
    "import keras\n",
    "from keras.models import Sequential\n",
    "from keras.layers import Activation, Dense, Conv2D, MaxPooling2D, Dropout, Flatten\n",
    "from keras.preprocessing.image import ImageDataGenerator"
   ]
  },
  {
   "cell_type": "code",
   "execution_count": 2,
   "id": "a526485e",
   "metadata": {},
   "outputs": [],
   "source": [
    "# Setting the Path\n",
    "path = 'COVID'"
   ]
  },
  {
   "cell_type": "code",
   "execution_count": 3,
   "id": "b0e47456",
   "metadata": {},
   "outputs": [],
   "source": [
    "# Loading the images\n",
    "train_data_dir = os.path.join(path, 'Train')\n",
    "test_data_dir = os.path.join(path, 'Test')"
   ]
  },
  {
   "cell_type": "code",
   "execution_count": 4,
   "id": "e0492196",
   "metadata": {},
   "outputs": [],
   "source": [
    "# Image Preprocessing\n",
    "train_datagen = ImageDataGenerator(rescale=1./255)\n",
    "test_datagen = ImageDataGenerator(rescale=1./255)\n"
   ]
  },
  {
   "cell_type": "code",
   "execution_count": 5,
   "id": "6cbe5098",
   "metadata": {},
   "outputs": [
    {
     "name": "stdout",
     "output_type": "stream",
     "text": [
      "Found 1800 images belonging to 2 classes.\n",
      "Found 681 images belonging to 2 classes.\n"
     ]
    }
   ],
   "source": [
    "# Training the Model\n",
    "train_generator = train_datagen.flow_from_directory(\n",
    "    train_data_dir,\n",
    "    target_size=(150,150),\n",
    "    batch_size=16,\n",
    "    class_mode='binary')\n",
    "\n",
    "test_generator = test_datagen.flow_from_directory(\n",
    "    test_data_dir,\n",
    "    target_size=(150,150),\n",
    "    batch_size=16,\n",
    "    class_mode='binary',\n",
    "    shuffle=False)"
   ]
  },
  {
   "cell_type": "code",
   "execution_count": 6,
   "id": "96cc4188",
   "metadata": {},
   "outputs": [],
   "source": [
    "model = Sequential()\n",
    "\n",
    "#Adding convolutional layers\n",
    "model.add(Conv2D(32, (3, 3), input_shape=(150, 150, 3)))\n",
    "model.add(Activation('relu'))\n",
    "model.add(MaxPooling2D(pool_size=(2, 2)))\n",
    "\n",
    "#Adding a second convolutional layer\n",
    "model.add(Conv2D(32, (3, 3)))\n",
    "model.add(Activation('relu'))\n",
    "model.add(MaxPooling2D(pool_size=(2, 2)))\n",
    "\n",
    "\n",
    "model.add(Flatten())  # this converts our 3D feature maps to 1D feature vectors\n",
    "model.add(Dense(64))\n",
    "model.add(Activation('relu'))\n",
    "model.add(Dropout(0.5))\n",
    "model.add(Dense(1))\n",
    "model.add(Activation('sigmoid'))"
   ]
  },
  {
   "cell_type": "code",
   "execution_count": 7,
   "id": "156b015b",
   "metadata": {},
   "outputs": [],
   "source": [
    "# Compiling the model\n",
    "model.compile(loss='binary_crossentropy',\n",
    "              optimizer='adam',\n",
    "              metrics=['accuracy'])"
   ]
  },
  {
   "cell_type": "code",
   "execution_count": 8,
   "id": "ca852fa7",
   "metadata": {},
   "outputs": [
    {
     "name": "stdout",
     "output_type": "stream",
     "text": [
      "Epoch 1/50\n",
      "40/40 [==============================] - 49s 1s/step - loss: 0.7612 - accuracy: 0.5203 - val_loss: 0.6821 - val_accuracy: 0.6914\n",
      "Epoch 2/50\n",
      "40/40 [==============================] - 44s 1s/step - loss: 0.6803 - accuracy: 0.5969 - val_loss: 0.7232 - val_accuracy: 0.3613\n",
      "Epoch 3/50\n",
      "40/40 [==============================] - 42s 1s/step - loss: 0.5931 - accuracy: 0.7000 - val_loss: 0.5801 - val_accuracy: 0.6758\n",
      "Epoch 4/50\n",
      "40/40 [==============================] - 41s 1s/step - loss: 0.5391 - accuracy: 0.7609 - val_loss: 0.4932 - val_accuracy: 0.7637\n",
      "Epoch 5/50\n",
      "40/40 [==============================] - 47s 1s/step - loss: 0.4617 - accuracy: 0.7848 - val_loss: 0.5556 - val_accuracy: 0.6699\n",
      "Epoch 6/50\n",
      "40/40 [==============================] - 33s 830ms/step - loss: 0.4496 - accuracy: 0.7896 - val_loss: 0.5842 - val_accuracy: 0.6602\n",
      "Epoch 7/50\n",
      "40/40 [==============================] - 43s 1s/step - loss: 0.3767 - accuracy: 0.8547 - val_loss: 0.4670 - val_accuracy: 0.8027\n",
      "Epoch 8/50\n",
      "40/40 [==============================] - 43s 1s/step - loss: 0.3409 - accuracy: 0.8391 - val_loss: 0.5671 - val_accuracy: 0.7070\n",
      "Epoch 9/50\n",
      "40/40 [==============================] - 42s 1s/step - loss: 0.2753 - accuracy: 0.9000 - val_loss: 0.5203 - val_accuracy: 0.7441\n",
      "Epoch 10/50\n",
      "40/40 [==============================] - 43s 1s/step - loss: 0.2711 - accuracy: 0.8766 - val_loss: 0.6210 - val_accuracy: 0.7168\n",
      "Epoch 11/50\n",
      "40/40 [==============================] - 34s 840ms/step - loss: 0.2685 - accuracy: 0.8891 - val_loss: 0.6497 - val_accuracy: 0.6797\n",
      "Epoch 12/50\n",
      "40/40 [==============================] - 41s 1s/step - loss: 0.2091 - accuracy: 0.9234 - val_loss: 0.6054 - val_accuracy: 0.7324\n",
      "Epoch 13/50\n",
      "40/40 [==============================] - 37s 909ms/step - loss: 0.2215 - accuracy: 0.9250 - val_loss: 0.6227 - val_accuracy: 0.7695\n",
      "Epoch 14/50\n",
      "40/40 [==============================] - 40s 997ms/step - loss: 0.2524 - accuracy: 0.8938 - val_loss: 0.7157 - val_accuracy: 0.7246\n",
      "Epoch 15/50\n",
      "40/40 [==============================] - 40s 986ms/step - loss: 0.1688 - accuracy: 0.9297 - val_loss: 0.6637 - val_accuracy: 0.7168\n",
      "Epoch 16/50\n",
      "40/40 [==============================] - 37s 934ms/step - loss: 0.1186 - accuracy: 0.9547 - val_loss: 0.7033 - val_accuracy: 0.7891\n",
      "Epoch 17/50\n",
      "40/40 [==============================] - 48s 1s/step - loss: 0.1576 - accuracy: 0.9391 - val_loss: 0.6804 - val_accuracy: 0.7754\n",
      "Epoch 18/50\n",
      "40/40 [==============================] - 42s 1s/step - loss: 0.1296 - accuracy: 0.9509 - val_loss: 0.6523 - val_accuracy: 0.7617\n",
      "Epoch 19/50\n",
      "40/40 [==============================] - 40s 1s/step - loss: 0.1388 - accuracy: 0.9446 - val_loss: 0.7364 - val_accuracy: 0.7266\n",
      "Epoch 20/50\n",
      "40/40 [==============================] - 40s 993ms/step - loss: 0.1001 - accuracy: 0.9604 - val_loss: 0.8072 - val_accuracy: 0.7617\n",
      "Epoch 21/50\n",
      "40/40 [==============================] - 42s 1s/step - loss: 0.1682 - accuracy: 0.9344 - val_loss: 0.7104 - val_accuracy: 0.7227\n",
      "Epoch 22/50\n",
      "40/40 [==============================] - 50s 1s/step - loss: 0.1234 - accuracy: 0.9557 - val_loss: 0.7343 - val_accuracy: 0.7559\n",
      "Epoch 23/50\n",
      "40/40 [==============================] - 36s 896ms/step - loss: 0.0879 - accuracy: 0.9625 - val_loss: 0.8647 - val_accuracy: 0.7500\n",
      "Epoch 24/50\n",
      "40/40 [==============================] - 45s 1s/step - loss: 0.0975 - accuracy: 0.9625 - val_loss: 0.7859 - val_accuracy: 0.7520\n",
      "Epoch 25/50\n",
      "40/40 [==============================] - 35s 864ms/step - loss: 0.0972 - accuracy: 0.9652 - val_loss: 0.7697 - val_accuracy: 0.7617\n",
      "Epoch 26/50\n",
      "40/40 [==============================] - 44s 1s/step - loss: 0.1286 - accuracy: 0.9484 - val_loss: 0.6962 - val_accuracy: 0.6719\n",
      "Epoch 27/50\n",
      "40/40 [==============================] - 41s 998ms/step - loss: 0.0957 - accuracy: 0.9699 - val_loss: 0.8498 - val_accuracy: 0.7480\n",
      "Epoch 28/50\n",
      "40/40 [==============================] - 40s 1s/step - loss: 0.0712 - accuracy: 0.9750 - val_loss: 0.7586 - val_accuracy: 0.7656\n",
      "Epoch 29/50\n",
      "40/40 [==============================] - 37s 907ms/step - loss: 0.0489 - accuracy: 0.9828 - val_loss: 0.9481 - val_accuracy: 0.7422\n",
      "Epoch 30/50\n",
      "40/40 [==============================] - 37s 936ms/step - loss: 0.0617 - accuracy: 0.9781 - val_loss: 0.9834 - val_accuracy: 0.7305\n",
      "Epoch 31/50\n",
      "40/40 [==============================] - 40s 995ms/step - loss: 0.0724 - accuracy: 0.9703 - val_loss: 0.9971 - val_accuracy: 0.6934\n",
      "Epoch 32/50\n",
      "40/40 [==============================] - 39s 980ms/step - loss: 0.0699 - accuracy: 0.9828 - val_loss: 1.2441 - val_accuracy: 0.6602\n",
      "Epoch 33/50\n",
      "40/40 [==============================] - 42s 1s/step - loss: 0.0766 - accuracy: 0.9747 - val_loss: 1.1346 - val_accuracy: 0.6582\n",
      "Epoch 34/50\n",
      "40/40 [==============================] - 33s 817ms/step - loss: 0.0761 - accuracy: 0.9750 - val_loss: 1.1588 - val_accuracy: 0.6621\n",
      "Epoch 35/50\n",
      "40/40 [==============================] - 41s 1s/step - loss: 0.0602 - accuracy: 0.9747 - val_loss: 1.0017 - val_accuracy: 0.7578\n",
      "Epoch 36/50\n",
      "40/40 [==============================] - 35s 868ms/step - loss: 0.0445 - accuracy: 0.9844 - val_loss: 0.9503 - val_accuracy: 0.7656\n",
      "Epoch 37/50\n",
      "40/40 [==============================] - 40s 995ms/step - loss: 0.0403 - accuracy: 0.9828 - val_loss: 1.1612 - val_accuracy: 0.7090\n",
      "Epoch 38/50\n",
      "40/40 [==============================] - 38s 923ms/step - loss: 0.0310 - accuracy: 0.9922 - val_loss: 1.1951 - val_accuracy: 0.7207\n",
      "Epoch 39/50\n",
      "40/40 [==============================] - 40s 1s/step - loss: 0.0586 - accuracy: 0.9858 - val_loss: 0.9531 - val_accuracy: 0.7578\n",
      "Epoch 40/50\n",
      "40/40 [==============================] - 39s 959ms/step - loss: 0.0342 - accuracy: 0.9859 - val_loss: 1.0746 - val_accuracy: 0.7539\n",
      "Epoch 41/50\n",
      "40/40 [==============================] - 35s 878ms/step - loss: 0.0276 - accuracy: 0.9906 - val_loss: 1.1119 - val_accuracy: 0.7695\n",
      "Epoch 42/50\n",
      "40/40 [==============================] - 46s 1s/step - loss: 0.0274 - accuracy: 0.9891 - val_loss: 1.0856 - val_accuracy: 0.7480\n",
      "Epoch 43/50\n",
      "40/40 [==============================] - 37s 911ms/step - loss: 0.0224 - accuracy: 0.9953 - val_loss: 1.2008 - val_accuracy: 0.7422\n",
      "Epoch 44/50\n",
      "40/40 [==============================] - 45s 1s/step - loss: 0.0162 - accuracy: 0.9937 - val_loss: 1.2758 - val_accuracy: 0.7598\n",
      "Epoch 45/50\n",
      "40/40 [==============================] - 39s 953ms/step - loss: 0.0406 - accuracy: 0.9844 - val_loss: 0.9324 - val_accuracy: 0.7832\n",
      "Epoch 46/50\n",
      "40/40 [==============================] - 41s 1s/step - loss: 0.0342 - accuracy: 0.9891 - val_loss: 1.1839 - val_accuracy: 0.7129\n",
      "Epoch 47/50\n",
      "40/40 [==============================] - 36s 896ms/step - loss: 0.0322 - accuracy: 0.9859 - val_loss: 1.4624 - val_accuracy: 0.6582\n",
      "Epoch 48/50\n",
      "40/40 [==============================] - 40s 992ms/step - loss: 0.0157 - accuracy: 0.9969 - val_loss: 1.3822 - val_accuracy: 0.7402\n",
      "Epoch 49/50\n",
      "40/40 [==============================] - 42s 1s/step - loss: 0.0240 - accuracy: 0.9922 - val_loss: 1.7777 - val_accuracy: 0.6758\n",
      "Epoch 50/50\n",
      "40/40 [==============================] - 36s 901ms/step - loss: 0.0478 - accuracy: 0.9766 - val_loss: 1.4718 - val_accuracy: 0.6875\n"
     ]
    },
    {
     "data": {
      "text/plain": [
       "<keras.callbacks.History at 0x2b3603459a0>"
      ]
     },
     "execution_count": 8,
     "metadata": {},
     "output_type": "execute_result"
    }
   ],
   "source": [
    "# Training the Model\n",
    "model.fit(\n",
    "    train_generator,\n",
    "    steps_per_epoch=40,\n",
    "    epochs=50,\n",
    "    validation_data=test_generator,\n",
    "    validation_steps=32)"
   ]
  },
  {
   "cell_type": "code",
   "execution_count": 9,
   "id": "a1131e6a",
   "metadata": {},
   "outputs": [
    {
     "name": "stdout",
     "output_type": "stream",
     "text": [
      "40/40 [==============================] - 5s 130ms/step - loss: 1.5223 - accuracy: 0.7531\n"
     ]
    },
    {
     "data": {
      "text/plain": [
       "[1.522275686264038, 0.753125011920929]"
      ]
     },
     "execution_count": 9,
     "metadata": {},
     "output_type": "execute_result"
    }
   ],
   "source": [
    "model.evaluate(test_generator,steps=40)"
   ]
  },
  {
   "cell_type": "code",
   "execution_count": 10,
   "id": "a08928ee",
   "metadata": {},
   "outputs": [
    {
     "name": "stdout",
     "output_type": "stream",
     "text": [
      "Model: \"sequential\"\n",
      "_________________________________________________________________\n",
      " Layer (type)                Output Shape              Param #   \n",
      "=================================================================\n",
      " conv2d (Conv2D)             (None, 148, 148, 32)      896       \n",
      "                                                                 \n",
      " activation (Activation)     (None, 148, 148, 32)      0         \n",
      "                                                                 \n",
      " max_pooling2d (MaxPooling2D  (None, 74, 74, 32)       0         \n",
      " )                                                               \n",
      "                                                                 \n",
      " conv2d_1 (Conv2D)           (None, 72, 72, 32)        9248      \n",
      "                                                                 \n",
      " activation_1 (Activation)   (None, 72, 72, 32)        0         \n",
      "                                                                 \n",
      " max_pooling2d_1 (MaxPooling  (None, 36, 36, 32)       0         \n",
      " 2D)                                                             \n",
      "                                                                 \n",
      " flatten (Flatten)           (None, 41472)             0         \n",
      "                                                                 \n",
      " dense (Dense)               (None, 64)                2654272   \n",
      "                                                                 \n",
      " activation_2 (Activation)   (None, 64)                0         \n",
      "                                                                 \n",
      " dropout (Dropout)           (None, 64)                0         \n",
      "                                                                 \n",
      " dense_1 (Dense)             (None, 1)                 65        \n",
      "                                                                 \n",
      " activation_3 (Activation)   (None, 1)                 0         \n",
      "                                                                 \n",
      "=================================================================\n",
      "Total params: 2,664,481\n",
      "Trainable params: 2,664,481\n",
      "Non-trainable params: 0\n",
      "_________________________________________________________________\n"
     ]
    }
   ],
   "source": [
    "model.summary()"
   ]
  },
  {
   "cell_type": "code",
   "execution_count": 11,
   "id": "c3b6de70",
   "metadata": {},
   "outputs": [],
   "source": [
    "# Saving the Model\n",
    "model.save('COVID_detection_model.h5')"
   ]
  },
  {
   "cell_type": "code",
   "execution_count": 12,
   "id": "1c0c0f1e",
   "metadata": {},
   "outputs": [],
   "source": [
    "model = keras.models.load_model('COVID_detection_model.h5')"
   ]
  },
  {
   "cell_type": "code",
   "execution_count": 13,
   "id": "5c8dfca9",
   "metadata": {},
   "outputs": [
    {
     "name": "stdout",
     "output_type": "stream",
     "text": [
      "1/1 [==============================] - 0s 143ms/step\n",
      "[[1.]]\n",
      "1/1 [==============================] - 0s 30ms/step\n",
      "[[1.]]\n",
      "1/1 [==============================] - 0s 28ms/step\n",
      "[[1.]]\n",
      "1/1 [==============================] - 0s 28ms/step\n",
      "[[0.]]\n",
      "1/1 [==============================] - 0s 28ms/step\n",
      "[[0.]]\n",
      "1/1 [==============================] - 0s 29ms/step\n",
      "[[0.]]\n",
      "1/1 [==============================] - 0s 28ms/step\n",
      "[[0.]]\n",
      "1/1 [==============================] - 0s 28ms/step\n",
      "[[0.]]\n",
      "1/1 [==============================] - 0s 28ms/step\n",
      "[[1.]]\n",
      "1/1 [==============================] - 0s 28ms/step\n",
      "[[1.]]\n",
      "1/1 [==============================] - 0s 28ms/step\n",
      "[[0.]]\n",
      "1/1 [==============================] - 0s 28ms/step\n",
      "[[0.]]\n"
     ]
    }
   ],
   "source": [
    "# Creating the GUI\n",
    "from tkinter import *\n",
    "from PIL import Image, ImageTk\n",
    "\n",
    "import tkinter\n",
    "import tkinter as tk\n",
    "import customtkinter\n",
    "from tkinter import filedialog\n",
    "from tkinter.filedialog import askopenfilename\n",
    "from tkinter import messagebox\n",
    "import keras.utils as image\n",
    "import numpy as np\n",
    "import os\n",
    "\n",
    "customtkinter.set_appearance_mode(\"System\")\n",
    "root = customtkinter.CTk()\n",
    "\n",
    "#window size\n",
    "root.rowconfigure(0,weight=1)\n",
    "root.columnconfigure(0,weight=1)\n",
    "\n",
    "root.geometry('420x270')\n",
    "\n",
    "root.title('COVID Detection')\n",
    "\n",
    "def reset_btn():\n",
    "    global label_prediction\n",
    "    \n",
    "    result = tk.Label(root, text=\"                                             \")\n",
    "    result.grid(row=1,column=1,sticky='nw',padx=20,pady=20)\n",
    "\n",
    "# Function to Select Image\n",
    "def browse_btn():\n",
    "    global image_name\n",
    "    image_name = askopenfilename(title='Select Image')\n",
    "    \n",
    "    img = Image.open(image_name)\n",
    "    img = img.resize((200, 200), Image.ANTIALIAS)\n",
    "    img = ImageTk.PhotoImage(img)\n",
    "    panel = tk.Label(root, image=img)\n",
    "    panel.image = img\n",
    "    panel.grid(row=0,column=1,sticky='nw',padx=20,pady=20)\n",
    "\n",
    "# Function to Predict\n",
    "def predict_btn():\n",
    "    global label_prediction\n",
    "    global image_name\n",
    "    test_img = image.load_img(image_name, target_size=(150, 150))\n",
    "    test_img = image.img_to_array(test_img)\n",
    "    test_img = np.expand_dims(test_img, axis=0)\n",
    "    result = model.predict(test_img)\n",
    "    print(result)\n",
    "    if result[0][0] == 0:\n",
    "        result = tk.Label(root, text=\"COVID Detected\")\n",
    "        result.grid(row=1,column=1,sticky='nw',padx=20,pady=20)\n",
    "    elif result[0][0] == 1:\n",
    "        result = tk.Label(root, text=\"No COVID Detected\")\n",
    "        result.grid(row=1,column=1,sticky='nw',padx=20,pady=20)\n",
    "\n",
    "# Browse Button\n",
    "browsebtn = customtkinter.CTkButton(master=root, text=\"Browse Image\", command=browse_btn)\n",
    "browsebtn.grid(row=0, column=0,sticky='nw',padx=20,pady=20)\n",
    "\n",
    "# Predict Butoon\n",
    "predictbtn = customtkinter.CTkButton(master=root, text=\"Predict\", command=predict_btn)\n",
    "predictbtn.grid(row=1, column=0,sticky='nw',padx=20,pady=20)\n",
    "predictbtn = customtkinter.CTkButton(master=root, text=\"Reset\", command=reset_btn)\n",
    "predictbtn.grid(row=2, column=0,sticky='nw',padx=20,pady=20)\n",
    "\n",
    "\n",
    "\n",
    "\n",
    "# Running the GUI\n",
    "root.mainloop()"
   ]
  },
  {
   "cell_type": "code",
   "execution_count": null,
   "id": "58f3ca61",
   "metadata": {},
   "outputs": [],
   "source": []
  }
 ],
 "metadata": {
  "kernelspec": {
   "display_name": "Python 3 (ipykernel)",
   "language": "python",
   "name": "python3"
  },
  "language_info": {
   "codemirror_mode": {
    "name": "ipython",
    "version": 3
   },
   "file_extension": ".py",
   "mimetype": "text/x-python",
   "name": "python",
   "nbconvert_exporter": "python",
   "pygments_lexer": "ipython3",
   "version": "3.9.12"
  }
 },
 "nbformat": 4,
 "nbformat_minor": 5
}
